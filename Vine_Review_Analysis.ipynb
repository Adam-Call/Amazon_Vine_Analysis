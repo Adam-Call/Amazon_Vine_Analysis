{
 "metadata": {
  "language_info": {
   "codemirror_mode": {
    "name": "ipython",
    "version": 3
   },
   "file_extension": ".py",
   "mimetype": "text/x-python",
   "name": "python",
   "nbconvert_exporter": "python",
   "pygments_lexer": "ipython3",
   "version": "3.7.9"
  },
  "orig_nbformat": 4,
  "kernelspec": {
   "name": "pythondata",
   "display_name": "Python 3.7.9 64-bit ('PythonData': conda)"
  },
  "interpreter": {
   "hash": "34dfee18d5f4a96df9a8fcc719c91cf50e8ed50de2aa108bf45cd20982063274"
  }
 },
 "nbformat": 4,
 "nbformat_minor": 2,
 "cells": [
  {
   "cell_type": "code",
   "execution_count": 1,
   "metadata": {},
   "outputs": [],
   "source": [
    "# import dependencies\n",
    "import pandas as pd\n",
    "import numpy\n"
   ]
  },
  {
   "cell_type": "code",
   "execution_count": 2,
   "metadata": {},
   "outputs": [
    {
     "output_type": "execute_result",
     "data": {
      "text/plain": [
       "        review_id  star_rating  helpful_votes  total_votes vine  \\\n",
       "0  R35T75OLUGHL5C          4.0            0.0          0.0    N   \n",
       "1  R2BV735O46BN33          5.0            0.0          0.0    N   \n",
       "2  R2NBEUGPQQGXP1          4.0            0.0          0.0    N   \n",
       "3  R17LLAOJ8ITK0S          3.0            1.0          1.0    N   \n",
       "4  R39PEQBT5ISEF4          1.0            0.0          0.0    N   \n",
       "\n",
       "  verified_purchase  \n",
       "0                 Y  \n",
       "1                 Y  \n",
       "2                 Y  \n",
       "3                 Y  \n",
       "4                 Y  "
      ],
      "text/html": "<div>\n<style scoped>\n    .dataframe tbody tr th:only-of-type {\n        vertical-align: middle;\n    }\n\n    .dataframe tbody tr th {\n        vertical-align: top;\n    }\n\n    .dataframe thead th {\n        text-align: right;\n    }\n</style>\n<table border=\"1\" class=\"dataframe\">\n  <thead>\n    <tr style=\"text-align: right;\">\n      <th></th>\n      <th>review_id</th>\n      <th>star_rating</th>\n      <th>helpful_votes</th>\n      <th>total_votes</th>\n      <th>vine</th>\n      <th>verified_purchase</th>\n    </tr>\n  </thead>\n  <tbody>\n    <tr>\n      <th>0</th>\n      <td>R35T75OLUGHL5C</td>\n      <td>4.0</td>\n      <td>0.0</td>\n      <td>0.0</td>\n      <td>N</td>\n      <td>Y</td>\n    </tr>\n    <tr>\n      <th>1</th>\n      <td>R2BV735O46BN33</td>\n      <td>5.0</td>\n      <td>0.0</td>\n      <td>0.0</td>\n      <td>N</td>\n      <td>Y</td>\n    </tr>\n    <tr>\n      <th>2</th>\n      <td>R2NBEUGPQQGXP1</td>\n      <td>4.0</td>\n      <td>0.0</td>\n      <td>0.0</td>\n      <td>N</td>\n      <td>Y</td>\n    </tr>\n    <tr>\n      <th>3</th>\n      <td>R17LLAOJ8ITK0S</td>\n      <td>3.0</td>\n      <td>1.0</td>\n      <td>1.0</td>\n      <td>N</td>\n      <td>Y</td>\n    </tr>\n    <tr>\n      <th>4</th>\n      <td>R39PEQBT5ISEF4</td>\n      <td>1.0</td>\n      <td>0.0</td>\n      <td>0.0</td>\n      <td>N</td>\n      <td>Y</td>\n    </tr>\n  </tbody>\n</table>\n</div>"
     },
     "metadata": {},
     "execution_count": 2
    }
   ],
   "source": [
    "#read in the vine_table.csv\n",
    "vine = pd.read_csv('vine_table.csv')\n",
    "vine.head()"
   ]
  },
  {
   "cell_type": "code",
   "execution_count": 3,
   "metadata": {},
   "outputs": [
    {
     "output_type": "execute_result",
     "data": {
      "text/plain": [
       "        review_id  star_rating  helpful_votes  total_votes vine  \\\n",
       "0  R35T75OLUGHL5C          4.0            0.0          0.0    N   \n",
       "1  R2BV735O46BN33          5.0            0.0          0.0    N   \n",
       "2  R2NBEUGPQQGXP1          4.0            0.0          0.0    N   \n",
       "3  R17LLAOJ8ITK0S          3.0            1.0          1.0    N   \n",
       "4  R39PEQBT5ISEF4          1.0            0.0          0.0    N   \n",
       "\n",
       "  verified_purchase  \n",
       "0                 Y  \n",
       "1                 Y  \n",
       "2                 Y  \n",
       "3                 Y  \n",
       "4                 Y  "
      ],
      "text/html": "<div>\n<style scoped>\n    .dataframe tbody tr th:only-of-type {\n        vertical-align: middle;\n    }\n\n    .dataframe tbody tr th {\n        vertical-align: top;\n    }\n\n    .dataframe thead th {\n        text-align: right;\n    }\n</style>\n<table border=\"1\" class=\"dataframe\">\n  <thead>\n    <tr style=\"text-align: right;\">\n      <th></th>\n      <th>review_id</th>\n      <th>star_rating</th>\n      <th>helpful_votes</th>\n      <th>total_votes</th>\n      <th>vine</th>\n      <th>verified_purchase</th>\n    </tr>\n  </thead>\n  <tbody>\n    <tr>\n      <th>0</th>\n      <td>R35T75OLUGHL5C</td>\n      <td>4.0</td>\n      <td>0.0</td>\n      <td>0.0</td>\n      <td>N</td>\n      <td>Y</td>\n    </tr>\n    <tr>\n      <th>1</th>\n      <td>R2BV735O46BN33</td>\n      <td>5.0</td>\n      <td>0.0</td>\n      <td>0.0</td>\n      <td>N</td>\n      <td>Y</td>\n    </tr>\n    <tr>\n      <th>2</th>\n      <td>R2NBEUGPQQGXP1</td>\n      <td>4.0</td>\n      <td>0.0</td>\n      <td>0.0</td>\n      <td>N</td>\n      <td>Y</td>\n    </tr>\n    <tr>\n      <th>3</th>\n      <td>R17LLAOJ8ITK0S</td>\n      <td>3.0</td>\n      <td>1.0</td>\n      <td>1.0</td>\n      <td>N</td>\n      <td>Y</td>\n    </tr>\n    <tr>\n      <th>4</th>\n      <td>R39PEQBT5ISEF4</td>\n      <td>1.0</td>\n      <td>0.0</td>\n      <td>0.0</td>\n      <td>N</td>\n      <td>Y</td>\n    </tr>\n  </tbody>\n</table>\n</div>"
     },
     "metadata": {},
     "execution_count": 3
    }
   ],
   "source": [
    "#create pandas dataframe\n",
    "vine_df = pd.DataFrame(vine)\n",
    "vine_df.head()"
   ]
  },
  {
   "cell_type": "code",
   "execution_count": 4,
   "metadata": {},
   "outputs": [
    {
     "output_type": "execute_result",
     "data": {
      "text/plain": [
       "          review_id  star_rating  helpful_votes  total_votes vine  \\\n",
       "65   R2FP3U4NHNFNL2          5.0           25.0         29.0    N   \n",
       "159  R1UUK1977O38MU          5.0           31.0         31.0    N   \n",
       "603   RXO216LWUDV6O          3.0           29.0         31.0    N   \n",
       "655  R3NMJF7EBMM19V          3.0           26.0         27.0    N   \n",
       "935  R2ZY0ZBDUO0XUY          3.0           20.0         21.0    N   \n",
       "\n",
       "    verified_purchase  \n",
       "65                  Y  \n",
       "159                 Y  \n",
       "603                 Y  \n",
       "655                 Y  \n",
       "935                 Y  "
      ],
      "text/html": "<div>\n<style scoped>\n    .dataframe tbody tr th:only-of-type {\n        vertical-align: middle;\n    }\n\n    .dataframe tbody tr th {\n        vertical-align: top;\n    }\n\n    .dataframe thead th {\n        text-align: right;\n    }\n</style>\n<table border=\"1\" class=\"dataframe\">\n  <thead>\n    <tr style=\"text-align: right;\">\n      <th></th>\n      <th>review_id</th>\n      <th>star_rating</th>\n      <th>helpful_votes</th>\n      <th>total_votes</th>\n      <th>vine</th>\n      <th>verified_purchase</th>\n    </tr>\n  </thead>\n  <tbody>\n    <tr>\n      <th>65</th>\n      <td>R2FP3U4NHNFNL2</td>\n      <td>5.0</td>\n      <td>25.0</td>\n      <td>29.0</td>\n      <td>N</td>\n      <td>Y</td>\n    </tr>\n    <tr>\n      <th>159</th>\n      <td>R1UUK1977O38MU</td>\n      <td>5.0</td>\n      <td>31.0</td>\n      <td>31.0</td>\n      <td>N</td>\n      <td>Y</td>\n    </tr>\n    <tr>\n      <th>603</th>\n      <td>RXO216LWUDV6O</td>\n      <td>3.0</td>\n      <td>29.0</td>\n      <td>31.0</td>\n      <td>N</td>\n      <td>Y</td>\n    </tr>\n    <tr>\n      <th>655</th>\n      <td>R3NMJF7EBMM19V</td>\n      <td>3.0</td>\n      <td>26.0</td>\n      <td>27.0</td>\n      <td>N</td>\n      <td>Y</td>\n    </tr>\n    <tr>\n      <th>935</th>\n      <td>R2ZY0ZBDUO0XUY</td>\n      <td>3.0</td>\n      <td>20.0</td>\n      <td>21.0</td>\n      <td>N</td>\n      <td>Y</td>\n    </tr>\n  </tbody>\n</table>\n</div>"
     },
     "metadata": {},
     "execution_count": 4
    }
   ],
   "source": [
    "#filter vine data by total_votes > 20\n",
    "vine_df = vine_df[vine_df.total_votes >= 20]\n",
    "vine_df.head()"
   ]
  },
  {
   "cell_type": "code",
   "execution_count": 5,
   "metadata": {},
   "outputs": [
    {
     "output_type": "execute_result",
     "data": {
      "text/plain": [
       "          review_id  star_rating  helpful_votes  total_votes vine  \\\n",
       "65   R2FP3U4NHNFNL2          5.0           25.0         29.0    N   \n",
       "159  R1UUK1977O38MU          5.0           31.0         31.0    N   \n",
       "603   RXO216LWUDV6O          3.0           29.0         31.0    N   \n",
       "655  R3NMJF7EBMM19V          3.0           26.0         27.0    N   \n",
       "935  R2ZY0ZBDUO0XUY          3.0           20.0         21.0    N   \n",
       "\n",
       "    verified_purchase  \n",
       "65                  Y  \n",
       "159                 Y  \n",
       "603                 Y  \n",
       "655                 Y  \n",
       "935                 Y  "
      ],
      "text/html": "<div>\n<style scoped>\n    .dataframe tbody tr th:only-of-type {\n        vertical-align: middle;\n    }\n\n    .dataframe tbody tr th {\n        vertical-align: top;\n    }\n\n    .dataframe thead th {\n        text-align: right;\n    }\n</style>\n<table border=\"1\" class=\"dataframe\">\n  <thead>\n    <tr style=\"text-align: right;\">\n      <th></th>\n      <th>review_id</th>\n      <th>star_rating</th>\n      <th>helpful_votes</th>\n      <th>total_votes</th>\n      <th>vine</th>\n      <th>verified_purchase</th>\n    </tr>\n  </thead>\n  <tbody>\n    <tr>\n      <th>65</th>\n      <td>R2FP3U4NHNFNL2</td>\n      <td>5.0</td>\n      <td>25.0</td>\n      <td>29.0</td>\n      <td>N</td>\n      <td>Y</td>\n    </tr>\n    <tr>\n      <th>159</th>\n      <td>R1UUK1977O38MU</td>\n      <td>5.0</td>\n      <td>31.0</td>\n      <td>31.0</td>\n      <td>N</td>\n      <td>Y</td>\n    </tr>\n    <tr>\n      <th>603</th>\n      <td>RXO216LWUDV6O</td>\n      <td>3.0</td>\n      <td>29.0</td>\n      <td>31.0</td>\n      <td>N</td>\n      <td>Y</td>\n    </tr>\n    <tr>\n      <th>655</th>\n      <td>R3NMJF7EBMM19V</td>\n      <td>3.0</td>\n      <td>26.0</td>\n      <td>27.0</td>\n      <td>N</td>\n      <td>Y</td>\n    </tr>\n    <tr>\n      <th>935</th>\n      <td>R2ZY0ZBDUO0XUY</td>\n      <td>3.0</td>\n      <td>20.0</td>\n      <td>21.0</td>\n      <td>N</td>\n      <td>Y</td>\n    </tr>\n  </tbody>\n</table>\n</div>"
     },
     "metadata": {},
     "execution_count": 5
    }
   ],
   "source": [
    "#create a table where helpful votes are greater than 50%\n",
    "helpful_vine = vine_df[(vine_df.helpful_votes / vine_df.total_votes) >= .5]\n",
    "helpful_vine.head()  "
   ]
  },
  {
   "cell_type": "code",
   "execution_count": 6,
   "metadata": {},
   "outputs": [
    {
     "output_type": "execute_result",
     "data": {
      "text/plain": [
       "             review_id  star_rating  helpful_votes  total_votes vine  \\\n",
       "30395   R3KPC0NBUDASX3          5.0           25.0         25.0    Y   \n",
       "206171  R119P2A95GGXX4          5.0           26.0         28.0    Y   \n",
       "222172  R1HKIRME8AJ89Z          5.0           79.0         82.0    Y   \n",
       "281437  R3FY3GMBGOBR22          5.0           12.0         20.0    Y   \n",
       "287862  R15KH3FBSVYGBU          5.0           32.0         37.0    Y   \n",
       "\n",
       "       verified_purchase  \n",
       "30395                  N  \n",
       "206171                 N  \n",
       "222172                 N  \n",
       "281437                 N  \n",
       "287862                 N  "
      ],
      "text/html": "<div>\n<style scoped>\n    .dataframe tbody tr th:only-of-type {\n        vertical-align: middle;\n    }\n\n    .dataframe tbody tr th {\n        vertical-align: top;\n    }\n\n    .dataframe thead th {\n        text-align: right;\n    }\n</style>\n<table border=\"1\" class=\"dataframe\">\n  <thead>\n    <tr style=\"text-align: right;\">\n      <th></th>\n      <th>review_id</th>\n      <th>star_rating</th>\n      <th>helpful_votes</th>\n      <th>total_votes</th>\n      <th>vine</th>\n      <th>verified_purchase</th>\n    </tr>\n  </thead>\n  <tbody>\n    <tr>\n      <th>30395</th>\n      <td>R3KPC0NBUDASX3</td>\n      <td>5.0</td>\n      <td>25.0</td>\n      <td>25.0</td>\n      <td>Y</td>\n      <td>N</td>\n    </tr>\n    <tr>\n      <th>206171</th>\n      <td>R119P2A95GGXX4</td>\n      <td>5.0</td>\n      <td>26.0</td>\n      <td>28.0</td>\n      <td>Y</td>\n      <td>N</td>\n    </tr>\n    <tr>\n      <th>222172</th>\n      <td>R1HKIRME8AJ89Z</td>\n      <td>5.0</td>\n      <td>79.0</td>\n      <td>82.0</td>\n      <td>Y</td>\n      <td>N</td>\n    </tr>\n    <tr>\n      <th>281437</th>\n      <td>R3FY3GMBGOBR22</td>\n      <td>5.0</td>\n      <td>12.0</td>\n      <td>20.0</td>\n      <td>Y</td>\n      <td>N</td>\n    </tr>\n    <tr>\n      <th>287862</th>\n      <td>R15KH3FBSVYGBU</td>\n      <td>5.0</td>\n      <td>32.0</td>\n      <td>37.0</td>\n      <td>Y</td>\n      <td>N</td>\n    </tr>\n  </tbody>\n</table>\n</div>"
     },
     "metadata": {},
     "execution_count": 6
    }
   ],
   "source": [
    "#spilt helpful_vine by vine == yes\n",
    "vine_yes = helpful_vine[helpful_vine.vine == 'Y']\n",
    "vine_yes.head()"
   ]
  },
  {
   "cell_type": "code",
   "execution_count": 7,
   "metadata": {},
   "outputs": [
    {
     "output_type": "execute_result",
     "data": {
      "text/plain": [
       "          review_id  star_rating  helpful_votes  total_votes vine  \\\n",
       "65   R2FP3U4NHNFNL2          5.0           25.0         29.0    N   \n",
       "159  R1UUK1977O38MU          5.0           31.0         31.0    N   \n",
       "603   RXO216LWUDV6O          3.0           29.0         31.0    N   \n",
       "655  R3NMJF7EBMM19V          3.0           26.0         27.0    N   \n",
       "935  R2ZY0ZBDUO0XUY          3.0           20.0         21.0    N   \n",
       "\n",
       "    verified_purchase  \n",
       "65                  Y  \n",
       "159                 Y  \n",
       "603                 Y  \n",
       "655                 Y  \n",
       "935                 Y  "
      ],
      "text/html": "<div>\n<style scoped>\n    .dataframe tbody tr th:only-of-type {\n        vertical-align: middle;\n    }\n\n    .dataframe tbody tr th {\n        vertical-align: top;\n    }\n\n    .dataframe thead th {\n        text-align: right;\n    }\n</style>\n<table border=\"1\" class=\"dataframe\">\n  <thead>\n    <tr style=\"text-align: right;\">\n      <th></th>\n      <th>review_id</th>\n      <th>star_rating</th>\n      <th>helpful_votes</th>\n      <th>total_votes</th>\n      <th>vine</th>\n      <th>verified_purchase</th>\n    </tr>\n  </thead>\n  <tbody>\n    <tr>\n      <th>65</th>\n      <td>R2FP3U4NHNFNL2</td>\n      <td>5.0</td>\n      <td>25.0</td>\n      <td>29.0</td>\n      <td>N</td>\n      <td>Y</td>\n    </tr>\n    <tr>\n      <th>159</th>\n      <td>R1UUK1977O38MU</td>\n      <td>5.0</td>\n      <td>31.0</td>\n      <td>31.0</td>\n      <td>N</td>\n      <td>Y</td>\n    </tr>\n    <tr>\n      <th>603</th>\n      <td>RXO216LWUDV6O</td>\n      <td>3.0</td>\n      <td>29.0</td>\n      <td>31.0</td>\n      <td>N</td>\n      <td>Y</td>\n    </tr>\n    <tr>\n      <th>655</th>\n      <td>R3NMJF7EBMM19V</td>\n      <td>3.0</td>\n      <td>26.0</td>\n      <td>27.0</td>\n      <td>N</td>\n      <td>Y</td>\n    </tr>\n    <tr>\n      <th>935</th>\n      <td>R2ZY0ZBDUO0XUY</td>\n      <td>3.0</td>\n      <td>20.0</td>\n      <td>21.0</td>\n      <td>N</td>\n      <td>Y</td>\n    </tr>\n  </tbody>\n</table>\n</div>"
     },
     "metadata": {},
     "execution_count": 7
    }
   ],
   "source": [
    "#spilt helpful_vine by vine == no\n",
    "vine_no = helpful_vine[helpful_vine.vine == 'N']\n",
    "vine_no.head()"
   ]
  },
  {
   "cell_type": "code",
   "execution_count": 8,
   "metadata": {},
   "outputs": [
    {
     "output_type": "execute_result",
     "data": {
      "text/plain": [
       "39976"
      ]
     },
     "metadata": {},
     "execution_count": 8
    }
   ],
   "source": [
    "#number of reviews\n",
    "reviews = len(helpful_vine)\n",
    "reviews\n",
    "\n"
   ]
  },
  {
   "cell_type": "code",
   "execution_count": 14,
   "metadata": {},
   "outputs": [
    {
     "output_type": "execute_result",
     "data": {
      "text/plain": [
       "21061"
      ]
     },
     "metadata": {},
     "execution_count": 14
    }
   ],
   "source": [
    "# number of 5 star reviews \n",
    "star_reviews = helpful_vine[helpful_vine.star_rating == 5]\n",
    "star5_reviews = len(star_reviews)\n",
    "star5_reviews"
   ]
  },
  {
   "cell_type": "code",
   "execution_count": 24,
   "metadata": {},
   "outputs": [],
   "source": [
    "#vine reviews by 5 star reviews\n",
    "vine_yes_stars = vine_yes[vine_yes.star_rating == 5]\n",
    "vine_no_stars = vine_no[vine_no.star_rating == 5]"
   ]
  },
  {
   "cell_type": "code",
   "execution_count": 25,
   "metadata": {},
   "outputs": [
    {
     "output_type": "stream",
     "name": "stdout",
     "text": [
      "0.0026589430701296234\n0.9973410569298704\n"
     ]
    }
   ],
   "source": [
    "#print % of 5 star reviews by whether in vine program or not\n",
    "print(len(vine_yes_stars)/star5_reviews)\n",
    "print(len(vine_no_stars)/star5_reviews)"
   ]
  },
  {
   "cell_type": "code",
   "execution_count": 28,
   "metadata": {},
   "outputs": [
    {
     "output_type": "execute_result",
     "data": {
      "text/plain": [
       "1"
      ]
     },
     "metadata": {},
     "execution_count": 28
    }
   ],
   "source": [
    "# 5 star reviews by verified purchases\n",
    "vine_purchase = vine_yes_stars[vine_yes_stars.verified_purchase == 'Y']\n",
    "len(vine_purchase)"
   ]
  },
  {
   "cell_type": "code",
   "execution_count": null,
   "metadata": {},
   "outputs": [],
   "source": []
  }
 ]
}